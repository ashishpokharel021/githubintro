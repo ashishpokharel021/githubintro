{
 "cells": [
  {
   "cell_type": "code",
   "execution_count": null,
   "id": "236742e0-d7a0-4d7a-9ba9-942080367f3e",
   "metadata": {},
   "outputs": [],
   "source": [
    "import time\n",
    "from datetime import datetime\n",
    "import ctypes\n",
    "\n",
    "# Define constants for mouse events using Windows API\n",
    "MOUSEEVENTF_LEFTDOWN = 0x0002  # Left mouse button down\n",
    "MOUSEEVENTF_LEFTUP = 0x0004    # Left mouse button up\n",
    "\n",
    "def wait_until(target_time):\n",
    "    \"\"\"\n",
    "    Wait until the system time matches the target time.\n",
    "    :param target_time: A string in the format \"HH:MM:SS\"\n",
    "    \"\"\"\n",
    "    while True:\n",
    "        now = datetime.now().strftime(\"%H:%M:%S\")\n",
    "        if now >= target_time:\n",
    "            break\n",
    "        time.sleep(0.01)  # Sleep briefly to avoid high CPU usage\n",
    "\n",
    "def simulate_click(x, y, target_time):\n",
    "    \"\"\"\n",
    "    Simulate a mouse click at a specific position (x, y) at a given target time.\n",
    "    :param x: X-coordinate of the click location\n",
    "    :param y: Y-coordinate of the click location\n",
    "    :param target_time: A string in the format \"HH:MM:SS\"\n",
    "    \"\"\"\n",
    "    print(f\"Waiting until {target_time} to perform the click...\")\n",
    "    wait_until(target_time)\n",
    "    \n",
    "    # Set the cursor position\n",
    "    ctypes.windll.user32.SetCursorPos(x, y)\n",
    "    \n",
    "    # Perform the left mouse button down and up events\n",
    "    ctypes.windll.user32.mouse_event(MOUSEEVENTF_LEFTDOWN, 0, 0, 0, 0)\n",
    "    ctypes.windll.user32.mouse_event(MOUSEEVENTF_LEFTUP, 0, 0, 0, 0)\n",
    "    print(\"Click performed!\")\n",
    "\n",
    "if __name__ == \"__main__\":\n",
    "    # Define the target time (HH:MM:SS format)\n",
    "    target_time = \"10:42:02\"\n",
    "    \n",
    "    # Define the coordinates where the click should happen\n",
    "    x_coordinate = 500  # Replace with your desired X-coordinate\n",
    "    y_coordinate = 300  # Replace with your desired Y-coordinate\n",
    "    \n",
    "    # Run the simulation\n",
    "    simulate_click(x_coordinate, y_coordinate, target_time)"
   ]
  },
  {
   "cell_type": "code",
   "execution_count": 1,
   "id": "86c3841d-50e1-4435-b604-2078ceb6fb30",
   "metadata": {},
   "outputs": [
    {
     "name": "stdout",
     "output_type": "stream",
     "text": [
      "Collecting pynputNote: you may need to restart the kernel to use updated packages.\n",
      "\n",
      "  Downloading pynput-1.8.1-py2.py3-none-any.whl.metadata (32 kB)\n",
      "Collecting tk\n",
      "  Downloading tk-0.1.0-py3-none-any.whl.metadata (693 bytes)\n",
      "Requirement already satisfied: six in c:\\users\\admin\\anaconda3\\lib\\site-packages (from pynput) (1.16.0)\n",
      "Downloading pynput-1.8.1-py2.py3-none-any.whl (91 kB)\n",
      "Downloading tk-0.1.0-py3-none-any.whl (3.9 kB)\n",
      "Installing collected packages: tk, pynput\n",
      "Successfully installed pynput-1.8.1 tk-0.1.0\n"
     ]
    }
   ],
   "source": [
    "pip install pynput tk\n"
   ]
  },
  {
   "cell_type": "code",
   "execution_count": 1,
   "id": "02f86e79-3f47-4c5d-b84a-182594044335",
   "metadata": {},
   "outputs": [],
   "source": [
    "import tkinter as tk\n",
    "from pynput import mouse\n",
    "\n",
    "# Counter to track the number of clicks\n",
    "click_count = 0\n",
    "\n",
    "def on_click(x, y, button, pressed):\n",
    "    global click_count\n",
    "\n",
    "    if pressed:  # Only handle \"pressed\" events\n",
    "        click_count += 1  # Increment the click counter\n",
    "        \n",
    "        # Update the label with the current mouse position\n",
    "        label.config(text=f\"X: {x}, Y: {y}\")\n",
    "        root.geometry(f\"+{x+20}+{y+20}\")  # Show near cursor\n",
    "\n",
    "        # Stop the listener and close the window after two clicks\n",
    "        if click_count >= 2:\n",
    "            listener.stop()  # Stop the mouse listener\n",
    "            root.destroy()   # Close the Tkinter window\n",
    "\n",
    "# Create a simple pop-up window\n",
    "root = tk.Tk()\n",
    "root.overrideredirect(True)  # Hide window decorations\n",
    "root.attributes(\"-topmost\", True)\n",
    "root.configure(bg=\"yellow\")\n",
    "\n",
    "label = tk.Label(root, font=(\"Arial\", 14), bg=\"yellow\")\n",
    "label.pack()\n",
    "\n",
    "# Start the mouse listener\n",
    "listener = mouse.Listener(on_click=on_click)\n",
    "listener.start()\n",
    "\n",
    "# Run the Tkinter main loop\n",
    "root.mainloop()"
   ]
  },
  {
   "cell_type": "code",
   "execution_count": null,
   "id": "8f925c6e-6b01-466e-bf5c-dfee15a4c8c8",
   "metadata": {},
   "outputs": [],
   "source": []
  }
 ],
 "metadata": {
  "kernelspec": {
   "display_name": "Python [conda env:base] *",
   "language": "python",
   "name": "conda-base-py"
  },
  "language_info": {
   "codemirror_mode": {
    "name": "ipython",
    "version": 3
   },
   "file_extension": ".py",
   "mimetype": "text/x-python",
   "name": "python",
   "nbconvert_exporter": "python",
   "pygments_lexer": "ipython3",
   "version": "3.12.7"
  },
  "panel-cell-order": [
   "81e15ba1-be12-4a81-80ff-6398093b40c6",
   "15b1f0a9-0699-4e87-9d01-1db19933d5a6",
   "c6454d33-7b53-4a34-8366-ead48420ecbd"
  ]
 },
 "nbformat": 4,
 "nbformat_minor": 5
}
